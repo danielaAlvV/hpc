{
 "cells": [
  {
   "cell_type": "code",
   "execution_count": 2,
   "metadata": {},
   "outputs": [
    {
     "name": "stdout",
     "output_type": "stream",
     "text": [
      "Hello\n"
     ]
    }
   ],
   "source": [
    "print(\"Hello\")"
   ]
  },
  {
   "cell_type": "code",
   "execution_count": 18,
   "metadata": {},
   "outputs": [],
   "source": [
    "import os\n",
    "os.chdir(\"/Users/ra67tek/HPC-SS24\")\n",
    "#content_dir = os.listdir()\n",
    "#column_names = [\"Time\", \"Query\", \"Reference\", \"Algorithm\"]\n",
    "#table_results = open(\"results_table.csv\",\"w\")\n",
    "#table_results.write(\"\\t\".join(column_names) + \"\\n\")\n",
    "\n",
    "#my_file = open(\"resultsda.txt\")\n",
    "#file_contents = my_file.read()\n",
    "#all_lines = file_contents.split(\"\\n\")\n",
    "\n",
    "#for line in all_lines:\n",
    "    #columns = line.replace(\"; \", \"\\t\")\n",
    "    #table_results.write(line + \"\\n\")\n",
    "\n",
    "#table_results.close()\n"
   ]
  },
  {
   "cell_type": "code",
   "execution_count": 19,
   "metadata": {},
   "outputs": [
    {
     "data": {
      "text/html": [
       "<div>\n",
       "<style scoped>\n",
       "    .dataframe tbody tr th:only-of-type {\n",
       "        vertical-align: middle;\n",
       "    }\n",
       "\n",
       "    .dataframe tbody tr th {\n",
       "        vertical-align: top;\n",
       "    }\n",
       "\n",
       "    .dataframe thead th {\n",
       "        text-align: right;\n",
       "    }\n",
       "</style>\n",
       "<table border=\"1\" class=\"dataframe\">\n",
       "  <thead>\n",
       "    <tr style=\"text-align: right;\">\n",
       "      <th></th>\n",
       "      <th></th>\n",
       "      <th></th>\n",
       "      <th>Time\\tQuery\\tReference\\tAlgorithm</th>\n",
       "    </tr>\n",
       "  </thead>\n",
       "  <tbody>\n",
       "    <tr>\n",
       "      <th>234</th>\n",
       "      <th>query_1.fa</th>\n",
       "      <th>14624.fa</th>\n",
       "      <td>Needle</td>\n",
       "    </tr>\n",
       "    <tr>\n",
       "      <th>290</th>\n",
       "      <th>query_1.fa</th>\n",
       "      <th>14624.fa</th>\n",
       "      <td>Needle</td>\n",
       "    </tr>\n",
       "    <tr>\n",
       "      <th>433</th>\n",
       "      <th>query_1.fa</th>\n",
       "      <th>23784.fa</th>\n",
       "      <td>Needle</td>\n",
       "    </tr>\n",
       "    <tr>\n",
       "      <th>458</th>\n",
       "      <th>query_1.fa</th>\n",
       "      <th>23784.fa</th>\n",
       "      <td>Needle</td>\n",
       "    </tr>\n",
       "    <tr>\n",
       "      <th>855</th>\n",
       "      <th>query_1.fa</th>\n",
       "      <th>50597.fa</th>\n",
       "      <td>Needle</td>\n",
       "    </tr>\n",
       "  </tbody>\n",
       "</table>\n",
       "</div>"
      ],
      "text/plain": [
       "                          Time\\tQuery\\tReference\\tAlgorithm\n",
       "234  query_1.fa  14624.fa                            Needle\n",
       "290  query_1.fa  14624.fa                            Needle\n",
       "433  query_1.fa  23784.fa                            Needle\n",
       "458  query_1.fa  23784.fa                            Needle\n",
       "855  query_1.fa  50597.fa                            Needle"
      ]
     },
     "execution_count": 19,
     "metadata": {},
     "output_type": "execute_result"
    }
   ],
   "source": [
    "import pandas as pd\n",
    "#table_results = pd.read_csv(\"results_table.csv\", sep = \";\")\n",
    "#table_results.head(5)"
   ]
  },
  {
   "cell_type": "code",
   "execution_count": 28,
   "metadata": {},
   "outputs": [
    {
     "data": {
      "text/html": [
       "<div>\n",
       "<style scoped>\n",
       "    .dataframe tbody tr th:only-of-type {\n",
       "        vertical-align: middle;\n",
       "    }\n",
       "\n",
       "    .dataframe tbody tr th {\n",
       "        vertical-align: top;\n",
       "    }\n",
       "\n",
       "    .dataframe thead th {\n",
       "        text-align: right;\n",
       "    }\n",
       "</style>\n",
       "<table border=\"1\" class=\"dataframe\">\n",
       "  <thead>\n",
       "    <tr style=\"text-align: right;\">\n",
       "      <th></th>\n",
       "      <th>Time</th>\n",
       "      <th>Threads</th>\n",
       "      <th>Query</th>\n",
       "      <th>Reference</th>\n",
       "      <th>Algorithm</th>\n",
       "    </tr>\n",
       "  </thead>\n",
       "  <tbody>\n",
       "    <tr>\n",
       "      <th>0</th>\n",
       "      <td>5</td>\n",
       "      <td>10</td>\n",
       "      <td>1</td>\n",
       "      <td>1071882</td>\n",
       "      <td>BLAST</td>\n",
       "    </tr>\n",
       "    <tr>\n",
       "      <th>1</th>\n",
       "      <td>11</td>\n",
       "      <td>1</td>\n",
       "      <td>1</td>\n",
       "      <td>1071882</td>\n",
       "      <td>BLAST</td>\n",
       "    </tr>\n",
       "    <tr>\n",
       "      <th>2</th>\n",
       "      <td>1</td>\n",
       "      <td>5</td>\n",
       "      <td>1</td>\n",
       "      <td>138959</td>\n",
       "      <td>BLAST</td>\n",
       "    </tr>\n",
       "    <tr>\n",
       "      <th>3</th>\n",
       "      <td>2</td>\n",
       "      <td>1</td>\n",
       "      <td>1</td>\n",
       "      <td>138959</td>\n",
       "      <td>BLAST</td>\n",
       "    </tr>\n",
       "    <tr>\n",
       "      <th>4</th>\n",
       "      <td>10</td>\n",
       "      <td>10</td>\n",
       "      <td>8</td>\n",
       "      <td>1071882</td>\n",
       "      <td>BLAST</td>\n",
       "    </tr>\n",
       "  </tbody>\n",
       "</table>\n",
       "</div>"
      ],
      "text/plain": [
       "   Time  Threads  Query  Reference Algorithm\n",
       "0     5       10      1    1071882     BLAST\n",
       "1    11        1      1    1071882     BLAST\n",
       "2     1        5      1     138959     BLAST\n",
       "3     2        1      1     138959     BLAST\n",
       "4    10       10      8    1071882     BLAST"
      ]
     },
     "execution_count": 28,
     "metadata": {},
     "output_type": "execute_result"
    }
   ],
   "source": [
    "results = pd.read_csv(\"results_combined.csv\", sep = \";\")\n",
    "results.columns = [\"Time\", \"Threads\", \"Query\", \"Reference\", \"Algorithm\"]\n",
    "results.to_csv(\"results1.csv\", sep= \";\", index=False)\n",
    "results.head(5)\n",
    "#results.tail(5)"
   ]
  }
 ],
 "metadata": {
  "kernelspec": {
   "display_name": "base",
   "language": "python",
   "name": "python3"
  },
  "language_info": {
   "codemirror_mode": {
    "name": "ipython",
    "version": 3
   },
   "file_extension": ".py",
   "mimetype": "text/x-python",
   "name": "python",
   "nbconvert_exporter": "python",
   "pygments_lexer": "ipython3",
   "version": "3.8.5"
  }
 },
 "nbformat": 4,
 "nbformat_minor": 2
}
