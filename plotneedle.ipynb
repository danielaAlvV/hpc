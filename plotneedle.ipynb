{
 "cells": [
  {
   "cell_type": "code",
   "execution_count": 8,
   "metadata": {},
   "outputs": [
    {
     "name": "stdout",
     "output_type": "stream",
     "text": [
      "Hello\n"
     ]
    }
   ],
   "source": [
    "print(\"Hello\")"
   ]
  },
  {
   "cell_type": "code",
   "execution_count": 9,
   "metadata": {},
   "outputs": [],
   "source": [
    "import os\n",
    "os.chdir(\"/Users/ra67tek/HPC-SS24/hpc\")\n",
    "#content_dir = os.listdir()\n",
    "#column_names = [\"Time\", \"Query\", \"Reference\", \"Algorithm\"]\n",
    "#table_results = open(\"results_table.csv\",\"w\")\n",
    "#table_results.write(\"\\t\".join(column_names) + \"\\n\")\n",
    "\n",
    "#my_file = open(\"resultsda.txt\")\n",
    "#file_contents = my_file.read()\n",
    "#all_lines = file_contents.split(\"\\n\")\n",
    "\n",
    "#for line in all_lines:\n",
    "    #columns = line.replace(\"; \", \"\\t\")\n",
    "    #table_results.write(line + \"\\n\")\n",
    "\n",
    "#table_results.close()\n"
   ]
  },
  {
   "cell_type": "code",
   "execution_count": 10,
   "metadata": {},
   "outputs": [],
   "source": [
    "import pandas as pd\n",
    "#table_results = pd.read_csv(\"results_table.csv\", sep = \";\")\n",
    "#table_results.head(5)"
   ]
  },
  {
   "cell_type": "code",
   "execution_count": 11,
   "metadata": {},
   "outputs": [
    {
     "data": {
      "text/html": [
       "<div>\n",
       "<style scoped>\n",
       "    .dataframe tbody tr th:only-of-type {\n",
       "        vertical-align: middle;\n",
       "    }\n",
       "\n",
       "    .dataframe tbody tr th {\n",
       "        vertical-align: top;\n",
       "    }\n",
       "\n",
       "    .dataframe thead th {\n",
       "        text-align: right;\n",
       "    }\n",
       "</style>\n",
       "<table border=\"1\" class=\"dataframe\">\n",
       "  <thead>\n",
       "    <tr style=\"text-align: right;\">\n",
       "      <th></th>\n",
       "      <th>Time</th>\n",
       "      <th>Threads</th>\n",
       "      <th>Query</th>\n",
       "      <th>Reference</th>\n",
       "      <th>Algorithm</th>\n",
       "    </tr>\n",
       "  </thead>\n",
       "  <tbody>\n",
       "    <tr>\n",
       "      <th>0</th>\n",
       "      <td>5</td>\n",
       "      <td>10</td>\n",
       "      <td>1</td>\n",
       "      <td>1071882</td>\n",
       "      <td>BLAST</td>\n",
       "    </tr>\n",
       "    <tr>\n",
       "      <th>1</th>\n",
       "      <td>11</td>\n",
       "      <td>1</td>\n",
       "      <td>1</td>\n",
       "      <td>1071882</td>\n",
       "      <td>BLAST</td>\n",
       "    </tr>\n",
       "    <tr>\n",
       "      <th>2</th>\n",
       "      <td>1</td>\n",
       "      <td>5</td>\n",
       "      <td>1</td>\n",
       "      <td>138959</td>\n",
       "      <td>BLAST</td>\n",
       "    </tr>\n",
       "    <tr>\n",
       "      <th>3</th>\n",
       "      <td>2</td>\n",
       "      <td>1</td>\n",
       "      <td>1</td>\n",
       "      <td>138959</td>\n",
       "      <td>BLAST</td>\n",
       "    </tr>\n",
       "    <tr>\n",
       "      <th>4</th>\n",
       "      <td>10</td>\n",
       "      <td>10</td>\n",
       "      <td>8</td>\n",
       "      <td>1071882</td>\n",
       "      <td>BLAST</td>\n",
       "    </tr>\n",
       "  </tbody>\n",
       "</table>\n",
       "</div>"
      ],
      "text/plain": [
       "   Time  Threads  Query  Reference Algorithm\n",
       "0     5       10      1    1071882     BLAST\n",
       "1    11        1      1    1071882     BLAST\n",
       "2     1        5      1     138959     BLAST\n",
       "3     2        1      1     138959     BLAST\n",
       "4    10       10      8    1071882     BLAST"
      ]
     },
     "execution_count": 11,
     "metadata": {},
     "output_type": "execute_result"
    }
   ],
   "source": [
    "results = pd.read_csv(\"results_combined.csv\", sep = \";\")\n",
    "results.columns = [\"Time\", \"Threads\", \"Query\", \"Reference\", \"Algorithm\"]\n",
    "results.to_csv(\"results1.csv\", sep= \";\", index=False)\n",
    "results.head(5)\n",
    "#results.tail(5)"
   ]
  },
  {
   "cell_type": "code",
   "execution_count": 14,
   "metadata": {},
   "outputs": [
    {
     "ename": "SyntaxError",
     "evalue": "invalid syntax (<ipython-input-14-799d07d8800e>, line 8)",
     "output_type": "error",
     "traceback": [
      "\u001b[0;36m  File \u001b[0;32m\"<ipython-input-14-799d07d8800e>\"\u001b[0;36m, line \u001b[0;32m8\u001b[0m\n\u001b[0;31m    color_map = algorithm{\"BLAST\": \"red\", \"blast\": \"blue\", \"VSEARCH\": \"green\", \"needle\": \"yellow\"}\u001b[0m\n\u001b[0m                         ^\u001b[0m\n\u001b[0;31mSyntaxError\u001b[0m\u001b[0;31m:\u001b[0m invalid syntax\n"
     ]
    }
   ],
   "source": [
    "import matplotlib.pyplot as plt\n",
    "time = results[\"Time\"]\n",
    "reference= results[\"Reference\"]\n",
    "threads= results[\"Threads\"]\n",
    "query= results[\"Query\"]\n",
    "algorithm= results[\"Algorithm\"]\n",
    "\n",
    "color_map = {\"BLAST\": \"red\", \"blast\": \"blue\", \"VSEARCH\": \"green\", \"needle\": \"yellow\"}\n",
    "marker_map = {\"1\": \"o\", \"8\": \"x\", \"16\": \"*\"}\n",
    "size_map = {\"1\": 20, \"5\": 30, \"10\": 40}\n",
    "\n",
    "#for i in range(len(time)):\n",
    "for i in results[\"Reference\"]:\n",
    "    references =results  \n",
    "    plt.scatter(reference[i], time[i], s= size_map[i], c= color_map[reference[i]], marker= marker_map[i])\n",
    "\n",
    "    plt.colorbar(label= reference[\"BLAST\"])\n",
    "    plt.colorbar(label= reference[\"blast\"])\n",
    "    plt.colorbar(label= reference[\"VSEARCH\"])\n",
    "    plt.colorbar(label= reference[\"needle\"])\n",
    "\n",
    "    plt.xlabel(\"Reference\")\n",
    "    plt.ylabel(\"Time\")\n",
    "    plt.title(\"Processing sequences\")\n",
    "    plt.legend()\n",
    "    plt.show()"
   ]
  }
 ],
 "metadata": {
  "kernelspec": {
   "display_name": "base",
   "language": "python",
   "name": "python3"
  },
  "language_info": {
   "codemirror_mode": {
    "name": "ipython",
    "version": 3
   },
   "file_extension": ".py",
   "mimetype": "text/x-python",
   "name": "python",
   "nbconvert_exporter": "python",
   "pygments_lexer": "ipython3",
   "version": "3.8.5"
  }
 },
 "nbformat": 4,
 "nbformat_minor": 2
}
